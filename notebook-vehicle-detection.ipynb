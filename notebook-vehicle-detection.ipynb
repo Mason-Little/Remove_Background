{
 "cells": [
  {
   "cell_type": "markdown",
   "id": "05a72d9d",
   "metadata": {
    "papermill": {
     "duration": 0.006702,
     "end_time": "2022-07-24T20:02:10.897154",
     "exception": false,
     "start_time": "2022-07-24T20:02:10.890452",
     "status": "completed"
    },
    "tags": []
   },
   "source": [
    "# Vehicle Detection"
   ]
  },
  {
   "cell_type": "markdown",
   "id": "4a4d5701",
   "metadata": {
    "papermill": {
     "duration": 0.005565,
     "end_time": "2022-07-24T20:02:10.908690",
     "exception": false,
     "start_time": "2022-07-24T20:02:10.903125",
     "status": "completed"
    },
    "tags": []
   },
   "source": [
    "## Import Library"
   ]
  },
  {
   "cell_type": "code",
   "execution_count": 6,
   "id": "64ca9e3e",
   "metadata": {
    "execution": {
     "iopub.execute_input": "2022-07-24T20:02:10.922718Z",
     "iopub.status.busy": "2022-07-24T20:02:10.921772Z",
     "iopub.status.idle": "2022-07-24T20:02:16.999066Z",
     "shell.execute_reply": "2022-07-24T20:02:16.998073Z"
    },
    "papermill": {
     "duration": 6.087206,
     "end_time": "2022-07-24T20:02:17.001695",
     "exception": false,
     "start_time": "2022-07-24T20:02:10.914489",
     "status": "completed"
    },
    "tags": []
   },
   "outputs": [],
   "source": [
    "import os\n",
    "import shutil\n",
    "import matplotlib.pyplot as plt\n",
    "import tensorflow as tf\n",
    "from keras import layers\n",
    "from sklearn.model_selection import train_test_split\n",
    "from tensorflow.keras.preprocessing import image\n",
    "import numpy as np\n",
    "\n",
    "# ------\n",
    "\n",
    "import os\n",
    "\n",
    "import numpy as np\n",
    "\n",
    "import matplotlib.pyplot as plt\n",
    "\n",
    "import tensorflow as tf\n",
    "\n",
    "from keras.models import load_model\n",
    "from keras.preprocessing import image\n"
   ]
  },
  {
   "cell_type": "markdown",
   "id": "5750d5e7",
   "metadata": {
    "papermill": {
     "duration": 0.005548,
     "end_time": "2022-07-24T20:02:17.013401",
     "exception": false,
     "start_time": "2022-07-24T20:02:17.007853",
     "status": "completed"
    },
    "tags": []
   },
   "source": [
    "## Load Data"
   ]
  },
  {
   "cell_type": "code",
   "execution_count": 54,
   "id": "a507dce6",
   "metadata": {
    "execution": {
     "iopub.execute_input": "2022-07-24T20:02:17.026755Z",
     "iopub.status.busy": "2022-07-24T20:02:17.026151Z",
     "iopub.status.idle": "2022-07-24T20:02:17.030522Z",
     "shell.execute_reply": "2022-07-24T20:02:17.029607Z"
    },
    "papermill": {
     "duration": 0.012963,
     "end_time": "2022-07-24T20:02:17.032508",
     "exception": false,
     "start_time": "2022-07-24T20:02:17.019545",
     "status": "completed"
    },
    "tags": []
   },
   "outputs": [],
   "source": [
    "VEHICLES_DIR = r'D:\\A.I\\Remove_Background\\data\\outside'\n",
    "NON_VEHICLES_DIR = r\"D:\\A.I\\Remove_Background\\data\\inside\""
   ]
  },
  {
   "cell_type": "code",
   "execution_count": 55,
   "id": "326492b6",
   "metadata": {
    "execution": {
     "iopub.execute_input": "2022-07-24T20:02:17.044708Z",
     "iopub.status.busy": "2022-07-24T20:02:17.044452Z",
     "iopub.status.idle": "2022-07-24T20:02:17.475990Z",
     "shell.execute_reply": "2022-07-24T20:02:17.474958Z"
    },
    "papermill": {
     "duration": 0.440888,
     "end_time": "2022-07-24T20:02:17.478981",
     "exception": false,
     "start_time": "2022-07-24T20:02:17.038093",
     "status": "completed"
    },
    "tags": []
   },
   "outputs": [],
   "source": [
    "vehicles_image_names = os.listdir(VEHICLES_DIR)\n",
    "non_vehicles_image_names = os.listdir(NON_VEHICLES_DIR)"
   ]
  },
  {
   "cell_type": "code",
   "execution_count": 56,
   "id": "fcb5b57a",
   "metadata": {
    "execution": {
     "iopub.execute_input": "2022-07-24T20:02:17.491882Z",
     "iopub.status.busy": "2022-07-24T20:02:17.491577Z",
     "iopub.status.idle": "2022-07-24T20:02:17.497668Z",
     "shell.execute_reply": "2022-07-24T20:02:17.496797Z"
    },
    "papermill": {
     "duration": 0.015784,
     "end_time": "2022-07-24T20:02:17.500695",
     "exception": false,
     "start_time": "2022-07-24T20:02:17.484911",
     "status": "completed"
    },
    "tags": []
   },
   "outputs": [
    {
     "name": "stdout",
     "output_type": "stream",
     "text": [
      "TOTAL NO. OF VEHICLE IMAGES: 2126\n",
      "TOTAL NO. OF NON-VEHICLE IMAGES: 1276\n"
     ]
    }
   ],
   "source": [
    "print('TOTAL NO. OF VEHICLE IMAGES:', len(vehicles_image_names))\n",
    "print('TOTAL NO. OF NON-VEHICLE IMAGES:', len(non_vehicles_image_names))"
   ]
  },
  {
   "cell_type": "code",
   "execution_count": 57,
   "id": "bb77edca",
   "metadata": {
    "execution": {
     "iopub.execute_input": "2022-07-24T20:02:17.515264Z",
     "iopub.status.busy": "2022-07-24T20:02:17.514437Z",
     "iopub.status.idle": "2022-07-24T20:02:17.520104Z",
     "shell.execute_reply": "2022-07-24T20:02:17.518968Z"
    },
    "papermill": {
     "duration": 0.014761,
     "end_time": "2022-07-24T20:02:17.522034",
     "exception": false,
     "start_time": "2022-07-24T20:02:17.507273",
     "status": "completed"
    },
    "tags": []
   },
   "outputs": [
    {
     "name": "stdout",
     "output_type": "stream",
     "text": [
      "['output10001880349014.png', 'output10010633932138.png', 'output10012122192599.png', 'output10015084976453.png', 'output10018297494703.png', 'output10022277357124.png', 'output10027507316000.png', 'output10029693693464.png', 'output10031658095490.png', 'output10039377541096.png']\n",
      "['output10002873365488.png', 'output10004014733385.png', 'output10006324306445.png', 'output10013214244996.png', 'output10016804134306.png', 'output10023310223804.png', 'output10023814081091.png', 'output10030923027067.png', 'output10031126813389.png', 'output10031496071543.png']\n"
     ]
    }
   ],
   "source": [
    "print(vehicles_image_names[:10])\n",
    "print(non_vehicles_image_names[:10])"
   ]
  },
  {
   "cell_type": "markdown",
   "id": "13f7c373",
   "metadata": {
    "papermill": {
     "duration": 0.005809,
     "end_time": "2022-07-24T20:02:17.533618",
     "exception": false,
     "start_time": "2022-07-24T20:02:17.527809",
     "status": "completed"
    },
    "tags": []
   },
   "source": [
    "## Create Train Test Directory"
   ]
  },
  {
   "cell_type": "code",
   "execution_count": 58,
   "id": "cdcaea40",
   "metadata": {
    "execution": {
     "iopub.execute_input": "2022-07-24T20:02:17.548043Z",
     "iopub.status.busy": "2022-07-24T20:02:17.546601Z",
     "iopub.status.idle": "2022-07-24T20:02:17.552764Z",
     "shell.execute_reply": "2022-07-24T20:02:17.551924Z"
    },
    "papermill": {
     "duration": 0.014942,
     "end_time": "2022-07-24T20:02:17.554680",
     "exception": false,
     "start_time": "2022-07-24T20:02:17.539738",
     "status": "completed"
    },
    "tags": []
   },
   "outputs": [],
   "source": [
    "BASE_DIR = '../tmp/'\n",
    "TRAIN_DIR = os.path.join(BASE_DIR, 'train')\n",
    "TEST_DIR = os.path.join(BASE_DIR, 'test')\n",
    "VEHICLES_TRAIN_DIR = os.path.join(TRAIN_DIR, 'vehicles')\n",
    "NON_VEHICLES_TRAIN_DIR = os.path.join(TRAIN_DIR, 'non-vehicles')\n",
    "VEHICLES_TEST_DIR = os.path.join(TEST_DIR, 'vehicles')\n",
    "NON_VEHICLES_TEST_DIR = os.path.join(TEST_DIR, 'non-vehicles')"
   ]
  },
  {
   "cell_type": "code",
   "execution_count": 59,
   "id": "a9535bcf",
   "metadata": {
    "execution": {
     "iopub.execute_input": "2022-07-24T20:02:17.567632Z",
     "iopub.status.busy": "2022-07-24T20:02:17.567396Z",
     "iopub.status.idle": "2022-07-24T20:02:17.571432Z",
     "shell.execute_reply": "2022-07-24T20:02:17.570461Z"
    },
    "papermill": {
     "duration": 0.013199,
     "end_time": "2022-07-24T20:02:17.573733",
     "exception": false,
     "start_time": "2022-07-24T20:02:17.560534",
     "status": "completed"
    },
    "tags": []
   },
   "outputs": [],
   "source": [
    "TRAIN_SIZE = 0.8"
   ]
  },
  {
   "cell_type": "code",
   "execution_count": 60,
   "id": "e50dae9c",
   "metadata": {
    "execution": {
     "iopub.execute_input": "2022-07-24T20:02:17.587380Z",
     "iopub.status.busy": "2022-07-24T20:02:17.587144Z",
     "iopub.status.idle": "2022-07-24T20:02:17.598759Z",
     "shell.execute_reply": "2022-07-24T20:02:17.597966Z"
    },
    "papermill": {
     "duration": 0.02009,
     "end_time": "2022-07-24T20:02:17.600721",
     "exception": false,
     "start_time": "2022-07-24T20:02:17.580631",
     "status": "completed"
    },
    "tags": []
   },
   "outputs": [],
   "source": [
    "train_vehicles, test_vehicles = train_test_split(\n",
    "    vehicles_image_names, train_size=TRAIN_SIZE, shuffle=True, random_state=1\n",
    ")\n",
    "\n",
    "train_non_vehicles, test_non_vehicles = train_test_split(\n",
    "    non_vehicles_image_names, train_size=TRAIN_SIZE, shuffle=True, random_state=1\n",
    ")"
   ]
  },
  {
   "cell_type": "code",
   "execution_count": 71,
   "id": "308ba2e0",
   "metadata": {
    "execution": {
     "iopub.execute_input": "2022-07-24T20:02:17.613013Z",
     "iopub.status.busy": "2022-07-24T20:02:17.612741Z",
     "iopub.status.idle": "2022-07-24T20:02:17.618441Z",
     "shell.execute_reply": "2022-07-24T20:02:17.617348Z"
    },
    "papermill": {
     "duration": 0.015807,
     "end_time": "2022-07-24T20:02:17.622188",
     "exception": false,
     "start_time": "2022-07-24T20:02:17.606381",
     "status": "completed"
    },
    "tags": []
   },
   "outputs": [
    {
     "name": "stdout",
     "output_type": "stream",
     "text": [
      "TOTAL NO. OF TRAIN VEHICLE IMAGES: 1700\n",
      "TOTAL NO. OF TRAIN NON-VEHICLE IMAGES: 1020\n",
      "TOTAL NO. OF TEST VEHICLE IMAGES: 426\n",
      "TOTAL NO. OF TEST NON-VEHICLE IMAGES: 256\n"
     ]
    }
   ],
   "source": [
    "print('TOTAL NO. OF TRAIN VEHICLE IMAGES:', len(train_vehicles))\n",
    "print('TOTAL NO. OF TRAIN NON-VEHICLE IMAGES:', len(train_non_vehicles))\n",
    "\n",
    "print('TOTAL NO. OF TEST VEHICLE IMAGES:', len(test_vehicles))\n",
    "print('TOTAL NO. OF TEST NON-VEHICLE IMAGES:', len(test_non_vehicles))"
   ]
  },
  {
   "cell_type": "code",
   "execution_count": 72,
   "id": "d98342f0",
   "metadata": {
    "execution": {
     "iopub.execute_input": "2022-07-24T20:02:17.636394Z",
     "iopub.status.busy": "2022-07-24T20:02:17.636147Z",
     "iopub.status.idle": "2022-07-24T20:02:17.642060Z",
     "shell.execute_reply": "2022-07-24T20:02:17.641125Z"
    },
    "papermill": {
     "duration": 0.014467,
     "end_time": "2022-07-24T20:02:17.644060",
     "exception": false,
     "start_time": "2022-07-24T20:02:17.629593",
     "status": "completed"
    },
    "tags": []
   },
   "outputs": [],
   "source": [
    "def move_images(image_list, old_dir_path, new_dir_path):\n",
    "    if not os.path.exists(new_dir_path):\n",
    "        os.makedirs(new_dir_path)\n",
    "    \n",
    "    for file_name in image_list:\n",
    "        shutil.copy(\n",
    "            os.path.join(old_dir_path, file_name),\n",
    "            os.path.join(new_dir_path, file_name)\n",
    "        )\n",
    "    print(f'{len(image_list)} IMAGES COPIED TO {new_dir_path}')"
   ]
  },
  {
   "cell_type": "code",
   "execution_count": 73,
   "id": "4634ecab",
   "metadata": {
    "execution": {
     "iopub.execute_input": "2022-07-24T20:02:17.656491Z",
     "iopub.status.busy": "2022-07-24T20:02:17.656242Z",
     "iopub.status.idle": "2022-07-24T20:03:16.425847Z",
     "shell.execute_reply": "2022-07-24T20:03:16.424717Z"
    },
    "papermill": {
     "duration": 58.778911,
     "end_time": "2022-07-24T20:03:16.428638",
     "exception": false,
     "start_time": "2022-07-24T20:02:17.649727",
     "status": "completed"
    },
    "tags": []
   },
   "outputs": [
    {
     "name": "stdout",
     "output_type": "stream",
     "text": [
      "1700 IMAGES COPIED TO ../tmp/train\\vehicles\n",
      "1020 IMAGES COPIED TO ../tmp/train\\non-vehicles\n",
      "426 IMAGES COPIED TO ../tmp/test\\vehicles\n",
      "256 IMAGES COPIED TO ../tmp/test\\non-vehicles\n"
     ]
    }
   ],
   "source": [
    "move_images(train_vehicles, VEHICLES_DIR, VEHICLES_TRAIN_DIR)\n",
    "move_images(train_non_vehicles, NON_VEHICLES_DIR, NON_VEHICLES_TRAIN_DIR)\n",
    "\n",
    "move_images(test_vehicles, VEHICLES_DIR, VEHICLES_TEST_DIR)\n",
    "move_images(test_non_vehicles, NON_VEHICLES_DIR, NON_VEHICLES_TEST_DIR)"
   ]
  },
  {
   "cell_type": "code",
   "execution_count": 74,
   "id": "a5b5ecc1",
   "metadata": {
    "execution": {
     "iopub.execute_input": "2022-07-24T20:03:16.443315Z",
     "iopub.status.busy": "2022-07-24T20:03:16.443029Z",
     "iopub.status.idle": "2022-07-24T20:03:16.455988Z",
     "shell.execute_reply": "2022-07-24T20:03:16.454983Z"
    },
    "papermill": {
     "duration": 0.022877,
     "end_time": "2022-07-24T20:03:16.458298",
     "exception": false,
     "start_time": "2022-07-24T20:03:16.435421",
     "status": "completed"
    },
    "tags": []
   },
   "outputs": [
    {
     "data": {
      "text/plain": "1700"
     },
     "execution_count": 74,
     "metadata": {},
     "output_type": "execute_result"
    }
   ],
   "source": [
    "len(os.listdir(VEHICLES_TRAIN_DIR))"
   ]
  },
  {
   "cell_type": "markdown",
   "id": "14f6ed4c",
   "metadata": {
    "papermill": {
     "duration": 0.00632,
     "end_time": "2022-07-24T20:03:16.470772",
     "exception": false,
     "start_time": "2022-07-24T20:03:16.464452",
     "status": "completed"
    },
    "tags": []
   },
   "source": [
    "## Preprocessing"
   ]
  },
  {
   "cell_type": "code",
   "execution_count": 75,
   "id": "ea696174",
   "metadata": {
    "execution": {
     "iopub.execute_input": "2022-07-24T20:03:16.484233Z",
     "iopub.status.busy": "2022-07-24T20:03:16.483981Z",
     "iopub.status.idle": "2022-07-24T20:03:16.488124Z",
     "shell.execute_reply": "2022-07-24T20:03:16.487193Z"
    },
    "papermill": {
     "duration": 0.012969,
     "end_time": "2022-07-24T20:03:16.489957",
     "exception": false,
     "start_time": "2022-07-24T20:03:16.476988",
     "status": "completed"
    },
    "tags": []
   },
   "outputs": [],
   "source": [
    "IMG_SIZE = 256"
   ]
  },
  {
   "cell_type": "code",
   "execution_count": 76,
   "id": "1be69084",
   "metadata": {
    "execution": {
     "iopub.execute_input": "2022-07-24T20:03:16.503191Z",
     "iopub.status.busy": "2022-07-24T20:03:16.502919Z",
     "iopub.status.idle": "2022-07-24T20:03:17.596263Z",
     "shell.execute_reply": "2022-07-24T20:03:17.594575Z"
    },
    "papermill": {
     "duration": 1.102989,
     "end_time": "2022-07-24T20:03:17.598979",
     "exception": false,
     "start_time": "2022-07-24T20:03:16.495990",
     "status": "completed"
    },
    "tags": []
   },
   "outputs": [
    {
     "name": "stdout",
     "output_type": "stream",
     "text": [
      "Found 2720 images belonging to 2 classes.\n",
      "Found 682 images belonging to 2 classes.\n"
     ]
    }
   ],
   "source": [
    "train_datagen = tf.keras.preprocessing.image.ImageDataGenerator(\n",
    "    rescale=1./255\n",
    ")\n",
    "\n",
    "train_generator = train_datagen.flow_from_directory(\n",
    "    TRAIN_DIR,\n",
    "    target_size=(IMG_SIZE, IMG_SIZE),\n",
    "    shuffle=True,\n",
    "    class_mode='binary'\n",
    ")\n",
    "\n",
    "test_datagen = tf.keras.preprocessing.image.ImageDataGenerator(\n",
    "    rescale=1./255\n",
    ")\n",
    "\n",
    "test_generator = test_datagen.flow_from_directory(\n",
    "    TEST_DIR,\n",
    "    target_size=(IMG_SIZE, IMG_SIZE),\n",
    "    class_mode='binary'\n",
    ")"
   ]
  },
  {
   "cell_type": "markdown",
   "id": "4a51395f",
   "metadata": {
    "papermill": {
     "duration": 0.00657,
     "end_time": "2022-07-24T20:03:17.612740",
     "exception": false,
     "start_time": "2022-07-24T20:03:17.606170",
     "status": "completed"
    },
    "tags": []
   },
   "source": [
    "## Model"
   ]
  },
  {
   "cell_type": "code",
   "execution_count": 77,
   "id": "a08ac6b2",
   "metadata": {
    "execution": {
     "iopub.execute_input": "2022-07-24T20:03:17.627155Z",
     "iopub.status.busy": "2022-07-24T20:03:17.626346Z",
     "iopub.status.idle": "2022-07-24T20:03:20.461233Z",
     "shell.execute_reply": "2022-07-24T20:03:20.458743Z"
    },
    "papermill": {
     "duration": 2.846422,
     "end_time": "2022-07-24T20:03:20.465458",
     "exception": false,
     "start_time": "2022-07-24T20:03:17.619036",
     "status": "completed"
    },
    "tags": []
   },
   "outputs": [
    {
     "name": "stdout",
     "output_type": "stream",
     "text": [
      "Model: \"sequential_2\"\n",
      "_________________________________________________________________\n",
      "Layer (type)                 Output Shape              Param #   \n",
      "=================================================================\n",
      "conv2d_4 (Conv2D)            (None, 254, 254, 32)      896       \n",
      "_________________________________________________________________\n",
      "max_pooling2d_4 (MaxPooling2 (None, 127, 127, 32)      0         \n",
      "_________________________________________________________________\n",
      "conv2d_5 (Conv2D)            (None, 125, 125, 64)      18496     \n",
      "_________________________________________________________________\n",
      "max_pooling2d_5 (MaxPooling2 (None, 62, 62, 64)        0         \n",
      "_________________________________________________________________\n",
      "flatten_2 (Flatten)          (None, 246016)            0         \n",
      "_________________________________________________________________\n",
      "dense_2 (Dense)              (None, 1)                 246017    \n",
      "=================================================================\n",
      "Total params: 265,409\n",
      "Trainable params: 265,409\n",
      "Non-trainable params: 0\n",
      "_________________________________________________________________\n"
     ]
    }
   ],
   "source": [
    "model = tf.keras.Sequential([\n",
    "    layers.Conv2D(32, (3, 3), activation='relu', input_shape=(IMG_SIZE, IMG_SIZE, 3)),\n",
    "    layers.MaxPool2D((2, 2)),\n",
    "    layers.Conv2D(64, (3, 3), activation='relu'),\n",
    "    layers.MaxPool2D(2, 2),\n",
    "    layers.Flatten(),\n",
    "    layers.Dense(1, activation='sigmoid')\n",
    "])\n",
    "\n",
    "model.summary()\n",
    "\n",
    "model.compile(\n",
    "    optimizer='adam',\n",
    "    loss='binary_crossentropy',\n",
    "    metrics=['accuracy']\n",
    ")"
   ]
  },
  {
   "cell_type": "markdown",
   "id": "a9f358bd",
   "metadata": {
    "papermill": {
     "duration": 0.00932,
     "end_time": "2022-07-24T20:03:20.485210",
     "exception": false,
     "start_time": "2022-07-24T20:03:20.475890",
     "status": "completed"
    },
    "tags": []
   },
   "source": [
    "## Model Train"
   ]
  },
  {
   "cell_type": "code",
   "execution_count": 78,
   "id": "84266a85",
   "metadata": {
    "execution": {
     "iopub.execute_input": "2022-07-24T20:03:20.506515Z",
     "iopub.status.busy": "2022-07-24T20:03:20.505740Z",
     "iopub.status.idle": "2022-07-24T20:03:20.512019Z",
     "shell.execute_reply": "2022-07-24T20:03:20.510996Z"
    },
    "papermill": {
     "duration": 0.019825,
     "end_time": "2022-07-24T20:03:20.514560",
     "exception": false,
     "start_time": "2022-07-24T20:03:20.494735",
     "status": "completed"
    },
    "tags": []
   },
   "outputs": [],
   "source": [
    "early_stopping = tf.keras.callbacks.EarlyStopping(\n",
    "    monitor='val_loss',\n",
    "    patience=5\n",
    ")\n",
    "\n",
    "model_path = 'vehicle_detection.h5'\n",
    "model_checkpoint = tf.keras.callbacks.ModelCheckpoint(\n",
    "    model_path,\n",
    "    save_best_only=True\n",
    ")"
   ]
  },
  {
   "cell_type": "code",
   "execution_count": 79,
   "id": "84b7f393",
   "metadata": {
    "execution": {
     "iopub.execute_input": "2022-07-24T20:03:20.535569Z",
     "iopub.status.busy": "2022-07-24T20:03:20.535172Z",
     "iopub.status.idle": "2022-07-24T20:09:26.406230Z",
     "shell.execute_reply": "2022-07-24T20:09:26.405236Z"
    },
    "papermill": {
     "duration": 365.884497,
     "end_time": "2022-07-24T20:09:26.408435",
     "exception": false,
     "start_time": "2022-07-24T20:03:20.523938",
     "status": "completed"
    },
    "tags": []
   },
   "outputs": [
    {
     "name": "stdout",
     "output_type": "stream",
     "text": [
      "Epoch 1/40\n",
      "85/85 [==============================] - 12s 127ms/step - loss: 0.5352 - accuracy: 0.8029 - val_loss: 0.2620 - val_accuracy: 0.8798\n",
      "Epoch 2/40\n",
      "85/85 [==============================] - 5s 54ms/step - loss: 0.2080 - accuracy: 0.9143 - val_loss: 0.1901 - val_accuracy: 0.9311\n",
      "Epoch 3/40\n",
      "85/85 [==============================] - 5s 55ms/step - loss: 0.1194 - accuracy: 0.9574 - val_loss: 0.1837 - val_accuracy: 0.9194\n",
      "Epoch 4/40\n",
      "85/85 [==============================] - 5s 55ms/step - loss: 0.0538 - accuracy: 0.9835 - val_loss: 0.1659 - val_accuracy: 0.9355\n",
      "Epoch 5/40\n",
      "85/85 [==============================] - 5s 54ms/step - loss: 0.0205 - accuracy: 0.9952 - val_loss: 0.1909 - val_accuracy: 0.9326\n",
      "Epoch 6/40\n",
      "85/85 [==============================] - 5s 56ms/step - loss: 0.0131 - accuracy: 0.9982 - val_loss: 0.1840 - val_accuracy: 0.9428\n",
      "Epoch 7/40\n",
      "85/85 [==============================] - 5s 56ms/step - loss: 0.0071 - accuracy: 0.9989 - val_loss: 0.1826 - val_accuracy: 0.9413\n",
      "Epoch 8/40\n",
      "85/85 [==============================] - 5s 56ms/step - loss: 0.0020 - accuracy: 1.0000 - val_loss: 0.1918 - val_accuracy: 0.9428\n",
      "Epoch 9/40\n",
      "85/85 [==============================] - 5s 55ms/step - loss: 9.1818e-04 - accuracy: 1.0000 - val_loss: 0.2207 - val_accuracy: 0.9340\n"
     ]
    }
   ],
   "source": [
    "history = model.fit(\n",
    "    train_generator,\n",
    "    steps_per_epoch=len(train_generator),\n",
    "    epochs=40,\n",
    "    validation_data=test_generator,\n",
    "    validation_steps=len(test_generator),\n",
    "    callbacks=[early_stopping, model_checkpoint]\n",
    ")"
   ]
  },
  {
   "cell_type": "code",
   "execution_count": 80,
   "id": "bf108227",
   "metadata": {
    "execution": {
     "iopub.execute_input": "2022-07-24T20:09:26.907991Z",
     "iopub.status.busy": "2022-07-24T20:09:26.907011Z",
     "iopub.status.idle": "2022-07-24T20:09:40.241818Z",
     "shell.execute_reply": "2022-07-24T20:09:40.240870Z"
    },
    "papermill": {
     "duration": 13.585784,
     "end_time": "2022-07-24T20:09:40.244110",
     "exception": false,
     "start_time": "2022-07-24T20:09:26.658326",
     "status": "completed"
    },
    "tags": []
   },
   "outputs": [
    {
     "data": {
      "text/plain": "<Figure size 640x480 with 1 Axes>",
      "image/png": "[encoded data removed]"
     },
     "metadata": {},
     "output_type": "display_data"
    },
    {
     "data": {
      "text/plain": "<Figure size 640x480 with 1 Axes>",
      "image/png": "[encoded data removed]"
     },
     "metadata": {},
     "output_type": "display_data"
    }
   ],
   "source": [
    "plt.plot(history.history['loss'], label='Train Loss')\n",
    "plt.plot(history.history['val_loss'], label='Validation Loss')\n",
    "plt.legend()\n",
    "plt.show()\n",
    "\n",
    "plt.plot(history.history['accuracy'], label='Train Accuracy')\n",
    "plt.plot(history.history['val_accuracy'], label='Validation Accuracy')\n",
    "plt.legend()\n",
    "plt.show()"
   ]
  },
  {
   "cell_type": "markdown",
   "id": "7111f1a6",
   "metadata": {
    "papermill": {
     "duration": 0.251012,
     "end_time": "2022-07-24T20:09:40.748301",
     "exception": false,
     "start_time": "2022-07-24T20:09:40.497289",
     "status": "completed"
    },
    "tags": []
   },
   "source": [
    "## Save Model"
   ]
  },
  {
   "cell_type": "code",
   "execution_count": 81,
   "id": "2a3c8895",
   "metadata": {
    "execution": {
     "iopub.execute_input": "2022-07-24T20:09:41.292623Z",
     "iopub.status.busy": "2022-07-24T20:09:41.292069Z",
     "iopub.status.idle": "2022-07-24T20:09:47.259552Z",
     "shell.execute_reply": "2022-07-24T20:09:47.258622Z"
    },
    "papermill": {
     "duration": 6.221261,
     "end_time": "2022-07-24T20:09:47.262021",
     "exception": false,
     "start_time": "2022-07-24T20:09:41.040760",
     "status": "completed"
    },
    "tags": []
   },
   "outputs": [
    {
     "name": "stdout",
     "output_type": "stream",
     "text": [
      "22/22 [==============================] - 1s 35ms/step - loss: 0.1659 - accuracy: 0.9355\n"
     ]
    },
    {
     "data": {
      "text/plain": "[0.16587750613689423, 0.9354838728904724]"
     },
     "execution_count": 81,
     "metadata": {},
     "output_type": "execute_result"
    }
   ],
   "source": [
    "saved_model = tf.keras.models.load_model(model_path)\n",
    "saved_model.evaluate(test_generator)"
   ]
  },
  {
   "cell_type": "code",
   "execution_count": 87,
   "outputs": [
    {
     "name": "stdout",
     "output_type": "stream",
     "text": [
      "[[0.]]\n",
      "<_____________>\n"
     ]
    }
   ],
   "source": [
    "pre_mod = tf.keras.models.load_model(model_path)\n",
    "root = r'D:\\A.I\\Remove_Background\\data\\inside'\n",
    "# for item in os.listdir(root):\n",
    "#     full = os.path.join(root, item)\n",
    "#     img = image.load_img(full, target_size=(256, 256))\n",
    "#     plt.imshow(img)\n",
    "#     img = np.expand_dims(img, axis=0)\n",
    "#     result = pre_mod.predict(img)\n",
    "#     print(full)\n",
    "#     print(result)\n",
    "#     print('<_____________>')\n",
    "\n",
    "# ________________________________\n",
    "\n",
    "img = image.load_img(r\"D:\\Data\\Image_Bounded\\ACURA Legend Coupe 1990 - 1995\\444.jpg\", target_size=(256, 256))\n",
    "img = np.expand_dims(img, axis=0)\n",
    "result = pre_mod.predict(img)\n",
    "print(result)\n",
    "print('<_____________>')"
   ],
   "metadata": {
    "collapsed": false
   }
  },
  {
   "cell_type": "code",
   "execution_count": null,
   "outputs": [],
   "source": [],
   "metadata": {
    "collapsed": false,
    "pycharm": {
     "is_executing": true
    }
   }
  },
  {
   "cell_type": "code",
   "execution_count": 148,
   "outputs": [],
   "source": [],
   "metadata": {
    "collapsed": false
   }
  }
 ],
 "metadata": {
  "kernelspec": {
   "display_name": "Python 3",
   "language": "python",
   "name": "python3"
  },
  "language_info": {
   "codemirror_mode": {
    "name": "ipython",
    "version": 3
   },
   "file_extension": ".py",
   "mimetype": "text/x-python",
   "name": "python",
   "nbconvert_exporter": "python",
   "pygments_lexer": "ipython3",
   "version": "3.7.12"
  },
  "papermill": {
   "default_parameters": {},
   "duration": 468.688879,
   "end_time": "2022-07-24T20:09:51.650506",
   "environment_variables": {},
   "exception": null,
   "input_path": "__notebook__.ipynb",
   "output_path": "__notebook__.ipynb",
   "parameters": {},
   "start_time": "2022-07-24T20:02:02.961627",
   "version": "2.3.4"
  }
 },
 "nbformat": 4,
 "nbformat_minor": 5
}
